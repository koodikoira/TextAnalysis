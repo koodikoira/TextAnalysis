{
 "cells": [
  {
   "cell_type": "markdown",
   "metadata": {},
   "source": [
    "# Korp-tiede-datasetin nimettyjen entiteettien annotointi FiNER:lla\n",
    "<br>\n",
    "<div style=\"text-align: justify;\">\n",
    "<a href=\"https://github.com/Traubert/FiNer-rules/blob/master/finer-readme.md\">FiNER</a> on suomen kielen erinäisten erisnimien, ja muiden termien tunnistamiseen käytettävä ratkaisu, jonka nimi on lyhenne termistä <i>Finnish Named Entity Tagger</i>.\n",
    "\n",
    "Sovellus vaatii toimiakseen Linux käyttöjärjestelmän, tämä onnistuu virtuaalikoneella, tai dual boottaamisella, jos käytössäsi on Windows-kone. Koska FiNERin <a href=\"http://metashare.csc.fi/repository/browse/finnish-tagtools-14/7fe560cebfed11e9b7a7005056be118e82002ac3d5b8463b966fc03fb3ff93b1/\">1.4.0-versiossa</a> on toimivuusongelmia, suosittelen käyttämään <a href=\"http://metashare.csc.fi/repository/browse/finnish-tagtools-13/7f93e074e81a11e89961005056be118e249ee68aec3c42919d667b228e68e308/\">1.3.2-versiota</a>.\n",
    "Kun paketti on ladattu, niin käyttäjän tulee määrittää working directoryksi finnish-tagtools kansion ja ajaa <code>sudo make install</code> komento.\n",
    "\n",
    "<a href=\"https://github.com/pkauppin/finer-utilities\">finer-utilities</a> on suositeltavaa ladata ja purkaa finnish-tagtools kansioon. Kyseinen paketti sisältää hyödyllisiä tekstin linearisointiin ja analyysiin soveltuvia komentoja. Lopuksi finnish-tagtools kansioon on luotava kaksi kansiota: toinen syöte-tekstitiedostoille ja toinen prosessoiduille tekstitiedostoille.\n",
    "\n",
    "Kun ympäristö on laadittu, niin finnish-nertag kansioon on tehtävä .sh skriptatiedosto, jos haluaa prosessoida useamman tekstitiedoston kerralla. Kyseiseen skriptatiedostoon on kirjoitettava seuraavankaltaiset bash-komennot, jos haluaa tehdä erisnimien leimauksen ja jäsentää tekstin takaisin lineaariseen muotoon tabuloidusta taulusta:\n",
    "</div><br>\n",
    "<code>\n",
    "for file in ./input_tekstit/*.txt \n",
    "do\n",
    "finnish-nertag --show-nested < ./input_tekstit/\"${file##*/}\" > ./output_tekstit/$(basename -- \"tagged_${file##*/}\")\n",
    "sudo bash linearize.sh < ./output_tekstit/\"tagged_${file##*/}\" > ./output_tekstit/$(basename -- \"tag_lin_${file##*/}\")\n",
    "echo \"$(basename -- $file) luikautettu\" <i># näyttää mikä on viimeisin prosessoitu tiedosto</i>\n",
    "done;\n",
    "</code>\n",
    "<br>\n",
    "<div style=\"text-align: justify;\">\n",
    "    On mahdollista myös lisätä skriptaan <code>--show-analyses</code> parametri, joka lemmatisoi sanat, mutta koska Korp-datasetin sanat ovat jo valmiiksi lemmatisoituja, niin sitä ei ole ollut tarpeen hyödyntää, eikä kyseinen parametri ole niin oleellinen tässä menetelmässä. Missä finnish-nertag tunnistaa tekstitiedoston erisnimet, --show nested-parametri esittää monimerkitykselliset termit, input_tekstit viittaa syötekansioon, output_tekstit viittaa prosessoitujen kansioon, sudo bash linearize linearisoi tekstin.\n",
    "Skripta toteutuu konsolissa <code>sudo bash skriptanNimi.sh</code> komennolla.\n",
    "</div>"
   ]
  },
  {
   "cell_type": "markdown",
   "metadata": {},
   "source": [
    "<h3 style=\"text-align: center;\">Tagit<h3>\n",
    "<h4 style=\"text-align: center;\">Sijainti<h4>\n",
    "<table>\n",
    "<thead>\n",
    "<tr>\n",
    "<th>Subcategory</th>\n",
    "<th>Tag</th>\n",
    "</tr>\n",
    "</thead>\n",
    "<tbody>\n",
    "<tr>\n",
    "<td>Political</td>\n",
    "<td><code>EnamexLocPpl</code></td>\n",
    "</tr>\n",
    "<tr>\n",
    "<td>Geography</td>\n",
    "<td><code>EnamexLocGpl</code></td>\n",
    "</tr>\n",
    "<tr>\n",
    "<td>Street</td>\n",
    "<td><code>EnamexLocStr</code></td>\n",
    "</tr>\n",
    "<tr>\n",
    "<td>Structure</td>\n",
    "<td><code>EnamexLocFnc</code></td>\n",
    "</tr>\n",
    "<tr>\n",
    "<td>Astronomy</td>\n",
    "<td><code>EnamexLocAst</code></td>\n",
    "</tr>\n",
    "</tbody>\n",
    "</table>\n",
    "\n",
    "<h4 style=\"text-align: center;\">Organisaatio<h4>\n",
    "\n",
    "<table>\n",
    "<thead>\n",
    "<tr>\n",
    "<th>Subcategory</th>\n",
    "<th>Tag</th>\n",
    "</tr>\n",
    "</thead>\n",
    "<tbody>\n",
    "<tr>\n",
    "<td>Political</td>\n",
    "<td><code>EnamexOrgPlt</code></td>\n",
    "</tr>\n",
    "<tr>\n",
    "<td>Cultural</td>\n",
    "<td><code>EnamexOrgClt</code></td>\n",
    "</tr>\n",
    "<tr>\n",
    "<td>Media</td>\n",
    "<td><code>EnamexOrgTvr</code></td>\n",
    "</tr>\n",
    "<tr>\n",
    "<td>Financial</td>\n",
    "<td><code>EnamexOrgFin</code></td>\n",
    "</tr>\n",
    "<tr>\n",
    "<td>School</td>\n",
    "<td><code>EnamexOrgEdu</code></td>\n",
    "</tr>\n",
    "<tr>\n",
    "<td>Athletic</td>\n",
    "<td><code>EnamexOrgAth</code></td>\n",
    "</tr>\n",
    "<tr>\n",
    "<td>Corporation</td>\n",
    "<td><code>EnamexOrgCrp</code></td>\n",
    "</tr>\n",
    "</tbody>\n",
    "</table>\n",
    "\n",
    "<h4 style=\"text-align: center;\">Henkilö<h4>\n",
    "\n",
    "<table>\n",
    "<thead>\n",
    "<tr>\n",
    "<th>Subcategory</th>\n",
    "<th>Tag</th>\n",
    "</tr>\n",
    "</thead>\n",
    "<tbody>\n",
    "<tr>\n",
    "<td>People</td>\n",
    "<td><code>EnamexPrsHum</code></td>\n",
    "</tr>\n",
    "<tr>\n",
    "<td>Animals</td>\n",
    "<td><code>EnamexPrsAnm</code></td>\n",
    "</tr>\n",
    "<tr>\n",
    "<td>Mythical</td>\n",
    "<td><code>EnamexPrsMyt</code></td>\n",
    "</tr>\n",
    "<tr>\n",
    "<td>Title</td>\n",
    "<td><code>EnamexPrsTit</code></td>\n",
    "</tr>\n",
    "</tbody>\n",
    "</table>\n",
    "\n",
    "<h4 style=\"text-align: center;\">Muut<h4>\n",
    "\n",
    "<table>\n",
    "<thead>\n",
    "<tr>\n",
    "<th>Category</th>\n",
    "<th>Tag</th>\n",
    "</tr>\n",
    "</thead>\n",
    "<tbody>\n",
    "<tr>\n",
    "<td>Product</td>\n",
    "<td><code>EnamexProXxx</code></td>\n",
    "</tr>\n",
    "<tr>\n",
    "<td>Event</td>\n",
    "<td><code>EnamexEvtXxx</code></td>\n",
    "</tr>\n",
    "</tbody>\n",
    "</table>\n",
    "\n",
    "<h4 style=\"text-align: center;\">Aikamerkitykselliset ilmaisut<h4>\n",
    "\n",
    "<table>\n",
    "<thead>\n",
    "<tr>\n",
    "<th>Subcategory</th>\n",
    "<th>Tag</th>\n",
    "</tr>\n",
    "</thead>\n",
    "<tbody>\n",
    "<tr>\n",
    "<td>Dates</td>\n",
    "<td><code>TimexTmeDat</code></td>\n",
    "</tr>\n",
    "<tr>\n",
    "<td>Clock</td>\n",
    "<td><code>TimexTmeHrm</code></td>\n",
    "</tr>\n",
    "</tbody>\n",
    "</table>\n",
    "\n",
    "<h4 style=\"text-align: center;\">Numeeriset ilmaisut<h4>\n",
    "\n",
    "<table>\n",
    "<thead>\n",
    "<tr>\n",
    "<th>Subcategory</th>\n",
    "<th>Tag</th>\n",
    "</tr>\n",
    "</thead>\n",
    "<tbody>\n",
    "<tr>\n",
    "<td>Units</td>\n",
    "<td><code>NumexMsrXxx</code></td>\n",
    "</tr>\n",
    "<tr>\n",
    "<td>Money</td>\n",
    "<td><code>NumexMsrCur</code></td>\n",
    "</tr>\n",
    "</tbody>\n",
    "</table>"
   ]
  },
  {
   "cell_type": "markdown",
   "metadata": {},
   "source": [
    "## Tekstidokumenttien valmistaminen FiNER-prosessointia varten\n",
    "\n",
    "<p><code>import pandas as pd</code></p>\n",
    "<p><code>df = pd.read_csv(\"datasetti.tsv\")</code></p>\n",
    "<p><code>sanelut = list(df[\"text\"])</code></p>\n",
    "<p><code>for i in range(len(sanelut)):\n",
    "    f = codecs.open('\"C:/Users/TohtoriKoira/tekstianalyysi/nertagger/finnish-tagtools-1.3.2/text_input/tc' + str(i+1) + '.txt', \"w\", \"utf-8\")\n",
    "    f.write(korjatut[i])\n",
    "    f.close()\n",
    "</code>"
   ]
  },
  {
   "cell_type": "markdown",
   "metadata": {},
   "source": [
    "## FiNERin tulosten tarkastelu"
   ]
  },
  {
   "cell_type": "code",
   "execution_count": 1,
   "metadata": {},
   "outputs": [
    {
     "name": "stdout",
     "output_type": "stream",
     "text": [
      "KORP-Suomi24 tekstinäyte \n",
      "----------------------------------------------------------\n",
      "arvoisa komissio jäsen , ei voida - ja haluta päättää puhe tämä ajatus - antaa jalansija ja ase ne , joka väittää , että unioni toimielin olla tarkoittaa vain suuri , tärkeä tai rikas ei kansalainen tai pieni ja keskisuuri yritys , joka paha tapaus - joka ei toteutua , koska se estää tarvita toimi - joutua todeta , että tuomioistuin antaa erilainen tuomio ja vielä myöhä ilman , että ne olla minkäänlainen todellinen mahdollisuus vaikuttaa se muuten kuin se periaate apu , joka ranskalainen kutsua nimi le parcours du combatant , toinen sanoa ties kuinka moni vuosi pää , kun hyvin ruuhkautua tietää <EnamexLocPpl>Luxemburg</EnamexLocPpl> tuomioistuin antaa tuomio . \n"
     ]
    }
   ],
   "source": [
    "PATH = \"text_outputs/\"\n",
    "\n",
    "contents = open(PATH + 'tag_lin_tc' + str(1) + '.txt', 'r', encoding='utf-8')\n",
    "print(\"KORP-Suomi24 tekstinäyte \\n----------------------------------------------------------\")\n",
    "print(contents.read())"
   ]
  },
  {
   "cell_type": "markdown",
   "metadata": {},
   "source": [
    "<p>Tekstinäytteessä havaitaan, kuinka FiNER leimaa merkitykselliset tekstit, jotka on mahdollista paikantaa ja jopa korvata BeautifulSoup paketilla.</p>\n",
    "\n",
    "### Tagien tarkastelu\n",
    "\n",
    "Alla oleva koodi luo simppelin käyttöliittymän, jolla on mahdollista tarkastella yksittäisten, tai kaikkien tekstitiedostojen tageja"
   ]
  },
  {
   "cell_type": "code",
   "execution_count": 3,
   "metadata": {
    "scrolled": false
   },
   "outputs": [
    {
     "data": {
      "text/html": [
       "<style>.container { width:100% !important; }</style>"
      ],
      "text/plain": [
       "<IPython.core.display.HTML object>"
      ]
     },
     "metadata": {},
     "output_type": "display_data"
    },
    {
     "data": {
      "application/vnd.jupyter.widget-view+json": {
       "model_id": "77fd9bc4e58d4a869dfaba5beac1a300",
       "version_major": 2,
       "version_minor": 0
      },
      "text/plain": [
       "interactive(children=(Dropdown(description='tag', index=12, options=('EnamexLocPpl', 'EnamexLocGpl', 'EnamexLo…"
      ]
     },
     "metadata": {},
     "output_type": "display_data"
    },
    {
     "data": {
      "text/plain": [
       "<function __main__.laske(tag, sample, näytä_tagit, näytä_teksti)>"
      ]
     },
     "execution_count": 3,
     "metadata": {},
     "output_type": "execute_result"
    }
   ],
   "source": [
    "from ipywidgets import interact\n",
    "from IPython.display import display\n",
    "from IPython.core.display import display, HTML\n",
    "import ipywidgets as widgets\n",
    "from bs4 import BeautifulSoup\n",
    "import re\n",
    "import os\n",
    "\n",
    "display(HTML(\"<style>.container { width:100% !important; }</style>\"))\n",
    "tags = [\"EnamexLocPpl\", \"EnamexLocGpl\", \"EnamexLocStr\", \"EnamexLocFnc\", \"EnamexLocAst\", \n",
    "         \"EnamexOrgPlt\", \"EnamexOrgClt\", \"EnamexOrgTvr\", \"EnamexOrgFin\", \"EnamexOrgEdu\", \n",
    "         \"EnamexOrgAth\", \"EnamexOrgCrp\", \"EnamexPrsHum\", \"EnamexPrsAnm\", \"EnamexPrsMyt\",\n",
    "         \"EnamexPrsTit\", \"EnamexProXxx\", \"EnamexEvtXxx\", \"TimexTmeDat\", \"TimexTmeHrm\", \n",
    "         \"NumexMsrXxx\", \"NumexMsrCur\"]\n",
    "\n",
    "PATH = \"text_outputs/\"\n",
    "files = []\n",
    "option = []\n",
    "for file in os.listdir(PATH):\n",
    "    if os.path.isfile(os.path.join(PATH,file)) and 'tag_lin_tc' in file:\n",
    "        files.append(file)\n",
    "        option.append(file)\n",
    "\n",
    "option.append(\"kaikki\")\n",
    "\n",
    "def laske(tag, sample, näytä_tagit, näytä_teksti):\n",
    "    summa = 0\n",
    "    if sample == \"kaikki\":\n",
    "        for file in files:\n",
    "            summa += open(PATH + file, 'r', encoding='utf-8').read().count(tag)\n",
    "            if näytä_tagit:\n",
    "                soup = BeautifulSoup(open(PATH + file, 'r', encoding='utf-8'))\n",
    "                if soup.find_all(tag.lower()): \n",
    "                    print(\"Tekstinäyte: \" + file, end=\": \")\n",
    "                    print(re.sub('<[^>]*>', '', str(soup.find_all(tag.lower()))))\n",
    "\n",
    "        print(\"tagien määrä koko datasetissa: \" + str(round(summa/2)))\n",
    "        \n",
    "    else:\n",
    "        \n",
    "        summa = open(PATH + sample, 'r', encoding='utf-8').read().count(tag)\n",
    "        print(\"tagien määrä näytteessä \"+ str(sample) + \": \" + str(round(summa/2)))\n",
    "        \n",
    "        if näytä_tagit:\n",
    "            soup = BeautifulSoup(open(PATH + sample, 'r', encoding='utf-8'))\n",
    "            print(re.sub('<[^>]*>', '', str(soup.find_all(tag.lower()))))\n",
    "            \n",
    "        if näytä_teksti:\n",
    "            contents = open(PATH + sample, 'r', encoding='utf-8')\n",
    "            print(\"\\n\" + contents.read())\n",
    "    \n",
    "interact(laske, tag = widgets.Dropdown(options = tags, value=\"EnamexPrsHum\"),\n",
    "        sample = widgets.Dropdown(options = option),\n",
    "        näytä_tagit = widgets.Checkbox(value=True),\n",
    "        näytä_teksti = widgets.Checkbox(value=False))"
   ]
  },
  {
   "cell_type": "markdown",
   "metadata": {},
   "source": [
    "### Kokoelman luominen!\n",
    "\n",
    "os paketilla iteroi jokainen tekstitiedosto, luo kustakin dictionary, johon laitetaan NER-tagit.\n",
    "\n",
    "#### dict rakenne!\n",
    "dict 1 = {\"id\": \"tiedostonimi1\", \"EnamexLocPpl\": [], \"EnamexLocGpl\": [], \"EnamexLocStr\": [], \"EnamexLocFnc\": [], \"EnamexLocAst\": [], \n",
    "         \"EnamexOrgPlt\": [], \"EnamexOrgClt\": [], \"EnamexOrgTvr\": [], \"EnamexOrgFin\": [], \"EnamexOrgEdu\": [], \n",
    "         \"EnamexOrgAth\": [], \"EnamexOrgCrp\": [], \"EnamexPrsHum\": [], \"EnamexPrsAnm\": [], \"EnamexPrsMyt\": [],\n",
    "         \"EnamexPrsTit\": [], \"EnamexProXxx\": [], \"EnamexEvtXxx\": [], \"TimexTmeDat\": [], \"TimexTmeHrm\": [], \n",
    "         \"NumexMsrXxx\": [], \"NumexMsrCur\": [],}\n",
    "<br>     \n",
    "dict_lista = [dict1, dict2 ...]\n",
    "<br>\n",
    "df = pd.DataFrame(dict_lista)"
   ]
  },
  {
   "cell_type": "code",
   "execution_count": 4,
   "metadata": {},
   "outputs": [],
   "source": [
    "import pandas as pd\n",
    "from itertools import chain\n",
    "\n",
    "dictList = []\n",
    "lenList = []\n",
    "directory = 'text_outputs/' \n",
    "for filename in os.listdir(directory): \n",
    "    fileDict = {}\n",
    "    lenDict = {}\n",
    "    if filename.startswith(\"tag_lin_tc\"):\n",
    "        soup = BeautifulSoup(open(directory+filename, encoding=\"utf8\"))\n",
    "        fileDict[\"id\"] = filename\n",
    "        for tag in tags:\n",
    "            fileDict[tag] = list(chain.from_iterable(soup.find_all(tag.lower())))\n",
    "            lenDict[tag] = len(list(chain.from_iterable(soup.find_all(tag.lower()))))\n",
    "        dictList.append(fileDict)\n",
    "        lenList.append(lenDict)\n",
    "\n",
    "df1 = pd.DataFrame(dictList) # leimattujen termien tarkastelua varten\n",
    "df1 = df1.mask(df1.applymap(str).eq('[]'))\n",
    "df2 = pd.DataFrame(lenList) # korrelaatioanalyysia varten"
   ]
  },
  {
   "cell_type": "markdown",
   "metadata": {},
   "source": [
    "### Korrelaatioanalyysi\n",
    "\n",
    "Tarkastellaan onko minkään tagin välillä korrelaatiota"
   ]
  },
  {
   "cell_type": "code",
   "execution_count": 5,
   "metadata": {},
   "outputs": [
    {
     "data": {
      "image/png": "[encoded data removed]",
      "text/plain": [
       "<Figure size 576x576 with 2 Axes>"
      ]
     },
     "metadata": {
      "needs_background": "light"
     },
     "output_type": "display_data"
    }
   ],
   "source": [
    "corr = df2.corr(\"pearson\").dropna(how='all').dropna(axis=1, how='all')\n",
    "\n",
    "import seaborn as sns\n",
    "import matplotlib.pyplot as plt\n",
    "import numpy as np\n",
    "%matplotlib inline\n",
    "\n",
    "# Generate a mask for the upper triangle\n",
    "mask = np.zeros_like(corr, dtype=np.bool)\n",
    "mask[np.triu_indices_from(mask)] = True\n",
    "\n",
    "# Set up the matplotlib figure\n",
    "fig, ax = plt.subplots(figsize=(8, 8))\n",
    "\n",
    "# Generate a custom diverging colormap\n",
    "cmap = sns.diverging_palette(220, 10, as_cmap=True, sep=100)\n",
    "\n",
    "# Draw the heatmap with the mask and correct aspect ratio\n",
    "sns.heatmap(corr, mask=mask, cmap=cmap, vmin=-1, vmax=1, center=0, linewidths=.5)\n",
    "\n",
    "fig.suptitle('Correlation matrix of features', fontsize=15)\n",
    "\n",
    "fig.tight_layout()"
   ]
  },
  {
   "cell_type": "markdown",
   "metadata": {},
   "source": [
    "Ainoa vahva korrelaatio on henkilöiden nimien ja päivämäärien välillä (~0.7)."
   ]
  },
  {
   "cell_type": "markdown",
   "metadata": {},
   "source": [
    "### Leimattujen termien hakeminen ja tarkastelu"
   ]
  },
  {
   "cell_type": "code",
   "execution_count": 6,
   "metadata": {
    "scrolled": true
   },
   "outputs": [],
   "source": [
    "import numpy as np\n",
    "\n",
    "def termihaku(leima):\n",
    "    s = df1[leima][df1[leima].notna()]\n",
    "    alkiolista = np.array([])\n",
    "    for lista in s:\n",
    "        for alkio in lista:\n",
    "            alkiolista = np.append(alkiolista, alkio)\n",
    "\n",
    "    (unique, counts) = np.unique(alkiolista, return_counts=True)\n",
    "    frequencies = np.asarray((unique, counts)).T\n",
    "    return frequencies"
   ]
  },
  {
   "cell_type": "code",
   "execution_count": 7,
   "metadata": {
    "scrolled": false
   },
   "outputs": [
    {
     "name": "stdout",
     "output_type": "stream",
     "text": [
      "[['Aasia' '6']\n",
      " ['Afrikka' '24']\n",
      " ['Amerikka' '1']\n",
      " ['Atlantti' '4']\n",
      " ['Balkan' '3']\n",
      " ['Burgenland' '1']\n",
      " ['Etelä-Afrikka' '2']\n",
      " ['Eurooppa' '633']\n",
      " ['Falklandinsaari' '1']\n",
      " ['Finland' '2']\n",
      " ['Ireland' '2']\n",
      " ['Irlanninmeri' '4']\n",
      " ['Itä-Aasia' '1']\n",
      " ['Itä-Eurooppa' '1']\n",
      " ['Itä-Timor' '2']\n",
      " ['Itämeri' '2']\n",
      " ['Kattegat' '1']\n",
      " ['Kaukoitä' '1']\n",
      " ['Keski-Amerikka' '1']\n",
      " ['Koillis-Atlantti' '1']\n",
      " ['Lähi-itä' '1']\n",
      " ['Meksikonlahti' '1']\n",
      " ['Mustameri' '1']\n",
      " ['Pohjanmeri' '5']\n",
      " ['Pohjois-Amerikka' '3']\n",
      " ['Pohjois-Atlantti' '2']\n",
      " ['Skagerrak' '1']\n",
      " ['Tonava' '1']\n",
      " ['Tyynimeri' '1']\n",
      " ['Välimeri' '4']\n",
      " ['keski- ja Itä-Eurooppa' '2']\n",
      " ['latinalainen Amerikka' '8']]\n"
     ]
    }
   ],
   "source": [
    "print(termihaku(\"EnamexLocGpl\"))"
   ]
  },
  {
   "cell_type": "markdown",
   "metadata": {},
   "source": [
    "### Pseudonymisointi"
   ]
  },
  {
   "cell_type": "code",
   "execution_count": 10,
   "metadata": {},
   "outputs": [],
   "source": [
    "textlist = []\n",
    "\n",
    "for file in files:\n",
    "    soup = BeautifulSoup(open(PATH + file, 'r', encoding='utf-8'))\n",
    "    for etunimi in soup.findAll(tags[12].lower()): # tags[12] = EnamexPrsHum\n",
    "        etunimi.string = 'NIMIKOODI_' + \"[\" + str(file) + \"]\" # HOX, tämä on tekstidokumenttikohtainen koodaus, eikä erillinen koodaus jokaiselle erisnimelle\n",
    "    for paikannimi in soup.findAll(tags[0].lower()): # tags[12] = EnamexLocPpl\n",
    "        paikannimi.string = 'PAIKKAKOODI_' + \"[\" + str(file) + \"]\" \n",
    "    for aluenimi in soup.findAll(tags[1].lower()): # tags[12] = EnamexLocGpl\n",
    "        aluenimi.string = 'ALUEKOODI_' + \"[\" + str(file) + \"]\"\n",
    "    textlist += soup"
   ]
  },
  {
   "cell_type": "code",
   "execution_count": 12,
   "metadata": {},
   "outputs": [],
   "source": [
    "f = open('pseudonymisoitu.html', 'w+', encoding=\"utf-8\")\n",
    "f.write(\"<html>\\n<head>\\n<style>\\n\\ntable, th, td {\\n  border: 1px solid black;\\n}\\nenamexprshum {\\n color:red;font-weight: bold;}\\nenamexlocppl, enamexlocgpl {\\n color:blue;font-weight: bold;}</style>\")\n",
    "f.write('<table style=\"width:100%\">')\n",
    "f.write('<tr><th>id</th><th>Text</th></tr>')\n",
    "for i in range(len(textlist)):\n",
    "    f.write('<tr><td>sample_text_' + str(i+1) + '</td><td>' + str(textlist[i]) + '</td></tr>')\n",
    "f.write('</table>\\n</body>\\n</html>')\n",
    "f.close()"
   ]
  },
  {
   "cell_type": "markdown",
   "metadata": {},
   "source": [
    "Yllä oleva koodi pseudonymisoi tekstit korvaten nimet, maat ja kaupungit tekstitiedostokohtaisella koodilla, sekä värjää tekstit niiden leimasta riippuen."
   ]
  },
  {
   "cell_type": "markdown",
   "metadata": {},
   "source": [
    "### Kaikkien leimojen korostus"
   ]
  },
  {
   "cell_type": "code",
   "execution_count": 14,
   "metadata": {},
   "outputs": [],
   "source": [
    "textlist2 = []\n",
    "for file in files:\n",
    "    soup = BeautifulSoup(open(PATH + file, 'r', encoding='utf-8'))\n",
    "    textlist2 += soup\n",
    "\n",
    "f = open('korpKorostettu.html', 'w+', encoding=\"utf-8\")\n",
    "f.write(\"<html>\\n<head>\\n<style>\\n\\ntable, th, td {\\n  border: 1px solid black;\\n}\\nenamexprshum {\\n color:red;font-weight: bold;}\\nenamexlocppl, enamexlocgpl {\\n color:blue;font-weight: bold;}\\nenamexlocstr, enamexlocfnc, enamexlocast, enamexorgplt, enamexorgclt, enamexorgtvr, enamexorgfin, enamexorgedu, enamexorgath, enamexorgcrp, enamexprsanm, enamexprsanm, enamexprsmyt, enamexprstit, enamexproxxx, enamexevtxxx, timextmedat, timextmehrm, numexmsrxxx, numexmsrcur{\\n color:green;font-weight: bold;}\\n</style>\")\n",
    "f.write('<table style=\"width:100%\">')\n",
    "f.write('<tr><th>id</th><th>Text</th></tr>')\n",
    "for i in range(len(textlist2)):\n",
    "    f.write('<tr><td>sample_text_' + str(i+1) + '</td><td>' + str(textlist2[i]) + '</td></tr>')\n",
    "f.write('</table>\\n</body>\\n</html>')\n",
    "f.close()"
   ]
  },
  {
   "cell_type": "markdown",
   "metadata": {},
   "source": [
    "Yllä oleva koodi korostaa kaikki leimatut termit, nimet punaisella, paikannimet sinisellä, loput vihreällä."
   ]
  }
 ],
 "metadata": {
  "kernelspec": {
   "display_name": "Python 3",
   "language": "python",
   "name": "python3"
  },
  "language_info": {
   "codemirror_mode": {
    "name": "ipython",
    "version": 3
   },
   "file_extension": ".py",
   "mimetype": "text/x-python",
   "name": "python",
   "nbconvert_exporter": "python",
   "pygments_lexer": "ipython3",
   "version": "3.7.3"
  }
 },
 "nbformat": 4,
 "nbformat_minor": 4
}
